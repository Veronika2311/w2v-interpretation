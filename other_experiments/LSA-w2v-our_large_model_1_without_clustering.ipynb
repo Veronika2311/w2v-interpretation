{
 "cells": [
  {
   "cell_type": "code",
   "execution_count": 3,
   "id": "8ea02db0",
   "metadata": {},
   "outputs": [],
   "source": [
    "import re\n",
    "import gensim\n",
    "import logging\n",
    "import nltk.data\n",
    "import pandas as pd\n",
    "from nltk.corpus import stopwords\n",
    "from gensim.models import word2vec\n",
    "\n",
    "from tqdm import tqdm\n",
    "import numpy as np\n",
    "import wget\n",
    "import zipfile\n",
    "import random\n",
    "import umap.plot\n",
    "\n",
    "from sklearn.decomposition import TruncatedSVD"
   ]
  },
  {
   "cell_type": "code",
   "execution_count": 7,
   "id": "53e6e561",
   "metadata": {},
   "outputs": [],
   "source": [
    "logging.basicConfig(format='%(asctime)s : %(levelname)s : %(message)s', level=logging.INFO)"
   ]
  },
  {
   "cell_type": "code",
   "execution_count": 8,
   "id": "2364d321",
   "metadata": {},
   "outputs": [
    {
     "name": "stderr",
     "output_type": "stream",
     "text": [
      "2022-03-11 14:44:41,999 : INFO : loading Word2Vec object from ./all_cyberleninka_model/all_cyberleninka.model\n",
      "2022-03-11 14:44:44,077 : INFO : loading wv recursively from ./all_cyberleninka_model/all_cyberleninka.model.wv.* with mmap=None\n",
      "2022-03-11 14:44:44,078 : INFO : loading vectors from ./all_cyberleninka_model/all_cyberleninka.model.wv.vectors.npy with mmap=None\n",
      "2022-03-11 14:44:48,178 : INFO : loading syn1neg from ./all_cyberleninka_model/all_cyberleninka.model.syn1neg.npy with mmap=None\n",
      "2022-03-11 14:44:53,625 : INFO : setting ignored attribute cum_table to None\n",
      "2022-03-11 14:45:40,774 : INFO : Word2Vec lifecycle event {'fname': './all_cyberleninka_model/all_cyberleninka.model', 'datetime': '2022-03-11T14:45:40.774495', 'gensim': '4.1.2', 'python': '3.8.12 (default, Oct 12 2021, 03:01:40) [MSC v.1916 64 bit (AMD64)]', 'platform': 'Windows-10-10.0.19043-SP0', 'event': 'loaded'}\n"
     ]
    }
   ],
   "source": [
    "model_file = './all_cyberleninka_model/all_cyberleninka.model'\n",
    "model = gensim.models.Word2Vec.load(model_file)"
   ]
  },
  {
   "cell_type": "code",
   "execution_count": 9,
   "id": "51ad2214",
   "metadata": {},
   "outputs": [],
   "source": [
    "with open('very_clean_list.txt', encoding='utf8') as f:\n",
    "    all_nouns = f.read().split('\\n')"
   ]
  },
  {
   "cell_type": "code",
   "execution_count": 10,
   "id": "4eb538b3",
   "metadata": {},
   "outputs": [
    {
     "data": {
      "text/plain": [
       "32468"
      ]
     },
     "execution_count": 10,
     "metadata": {},
     "output_type": "execute_result"
    }
   ],
   "source": [
    "len(all_nouns)"
   ]
  },
  {
   "cell_type": "code",
   "execution_count": 19,
   "id": "2f22035b",
   "metadata": {},
   "outputs": [],
   "source": [
    "def get_matrix(all_nouns):\n",
    "    vectors_of_words = np.zeros((len(all_nouns), model.vector_size))\n",
    "    for i, word in enumerate(all_nouns):\n",
    "        vectors_of_words[i] = model.wv[word]\n",
    "        \n",
    "    return vectors_of_words\n",
    "\n",
    "def lsa_matrix(vectors_of_words, n_components, n_iter=100):\n",
    "    lsa_obj = TruncatedSVD(n_components=n_components, n_iter=n_iter, random_state=42)\n",
    "    lsa_data = lsa_obj.fit_transform(vectors_of_words)\n",
    "    return lsa_data"
   ]
  },
  {
   "cell_type": "code",
   "execution_count": 20,
   "id": "87dcaaff",
   "metadata": {},
   "outputs": [],
   "source": [
    "def sort_results2(lsa_data, all_nouns, all_lsa):    \n",
    "    sorted_scores_indx = np.argsort(lsa_data, axis=0)[::-1]\n",
    "    result = np.array(all_nouns)[sorted_scores_indx.ravel()]\n",
    "    result_nums = np.array(all_lsa)[sorted_scores_indx.ravel()]\n",
    "    return result, result_nums"
   ]
  },
  {
   "cell_type": "code",
   "execution_count": 25,
   "id": "f6d84175",
   "metadata": {},
   "outputs": [],
   "source": [
    "def get_n_iterations2(all_nouns, iterations):\n",
    "    dict_iters = {'0': [all_nouns]}\n",
    "    dict_iters_num = {'0': []}\n",
    "    for i in range(iterations):\n",
    "        print(i)\n",
    "        iter_name = str(i + 1)\n",
    "        dict_iters[iter_name] = []\n",
    "        dict_iters_num[iter_name] = []\n",
    "        for el in dict_iters[str(i)]:\n",
    "            first_matrix = get_matrix(el)\n",
    "            first_lsa = lsa_matrix(first_matrix, i + 2, 200)\n",
    "            first_result, first_result_num = sort_results2([v[0] for v in first_lsa], el, first_lsa)\n",
    "            half_of_list = len(first_result) // 3\n",
    "            dict_iters[iter_name].append(first_result[:half_of_list])\n",
    "            dict_iters[iter_name].append(first_result[half_of_list:2*half_of_list])\n",
    "            dict_iters[iter_name].append(first_result[2*half_of_list:])\n",
    "            dict_iters_num[iter_name].append(first_result_num[:half_of_list])\n",
    "            dict_iters_num[iter_name].append(first_result_num[half_of_list:2*half_of_list])\n",
    "            dict_iters_num[iter_name].append(first_result_num[2*half_of_list:])\n",
    "            \n",
    "    return dict_iters, dict_iters_num"
   ]
  },
  {
   "cell_type": "code",
   "execution_count": 26,
   "id": "590e704f",
   "metadata": {},
   "outputs": [
    {
     "name": "stdout",
     "output_type": "stream",
     "text": [
      "0\n",
      "1\n",
      "2\n",
      "3\n",
      "4\n",
      "5\n",
      "6\n",
      "Wall time: 3min 15s\n"
     ]
    }
   ],
   "source": [
    "%%time\n",
    "res = get_n_iterations2(all_nouns, 7)"
   ]
  },
  {
   "cell_type": "code",
   "execution_count": 27,
   "id": "e5a639cb",
   "metadata": {},
   "outputs": [],
   "source": [
    "import pickle\n",
    "with open('large_1_without_clust.pkl', 'wb') as f:\n",
    "    pickle.dump(res, f)"
   ]
  },
  {
   "cell_type": "code",
   "execution_count": null,
   "id": "0ff64562",
   "metadata": {},
   "outputs": [],
   "source": []
  }
 ],
 "metadata": {
  "kernelspec": {
   "display_name": "Python 3 (ipykernel)",
   "language": "python",
   "name": "python3"
  },
  "language_info": {
   "codemirror_mode": {
    "name": "ipython",
    "version": 3
   },
   "file_extension": ".py",
   "mimetype": "text/x-python",
   "name": "python",
   "nbconvert_exporter": "python",
   "pygments_lexer": "ipython3",
   "version": "3.8.12"
  }
 },
 "nbformat": 4,
 "nbformat_minor": 5
}
