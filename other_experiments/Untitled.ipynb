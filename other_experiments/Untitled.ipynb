{
 "cells": [
  {
   "cell_type": "code",
   "execution_count": 6,
   "id": "0ccbcf94",
   "metadata": {},
   "outputs": [],
   "source": [
    "import numpy as np\n",
    "words = []\n",
    "xs = []\n",
    "ys = []\n",
    "zs = []\n",
    "vectors = []\n",
    "with open(\"words_coords_2.txt\", encoding='utf8') as in_file:\n",
    "#     line = in_file.readline()\n",
    "    while True:\n",
    "        line = in_file.readline()\n",
    "        if line == '---\\n':\n",
    "            break\n",
    "        else:\n",
    "            res = line.split(' ')\n",
    "            words.append(res[0])\n",
    "            xs.append(float(res[2]))\n",
    "            ys.append(float(res[4]))\n",
    "            zs.append(float(res[5]))\n",
    "            vectors.append(res[1:])\n",
    "words2 = np.array(words)\n",
    "for i in range(len(vectors)):\n",
    "    for j in range(len(vectors[i])):\n",
    "        vectors[i][j] = float(vectors[i][j])\n",
    "vectors = np.array(vectors)"
   ]
  },
  {
   "cell_type": "code",
   "execution_count": null,
   "id": "59e58493",
   "metadata": {},
   "outputs": [],
   "source": []
  },
  {
   "cell_type": "code",
   "execution_count": null,
   "id": "8700d9b4",
   "metadata": {},
   "outputs": [],
   "source": []
  }
 ],
 "metadata": {
  "kernelspec": {
   "display_name": "Python 3 (ipykernel)",
   "language": "python",
   "name": "python3"
  },
  "language_info": {
   "codemirror_mode": {
    "name": "ipython",
    "version": 3
   },
   "file_extension": ".py",
   "mimetype": "text/x-python",
   "name": "python",
   "nbconvert_exporter": "python",
   "pygments_lexer": "ipython3",
   "version": "3.8.12"
  }
 },
 "nbformat": 4,
 "nbformat_minor": 5
}
