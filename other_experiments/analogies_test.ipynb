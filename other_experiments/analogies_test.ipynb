{
 "cells": [
  {
   "cell_type": "code",
   "execution_count": 5,
   "id": "fef08cc4",
   "metadata": {},
   "outputs": [
    {
     "name": "stdout",
     "output_type": "stream",
     "text": [
      "Collecting ruwordnet\n",
      "  Downloading ruwordnet-0.0.3.tar.gz (13 kB)\n",
      "Collecting sqlalchemy\n",
      "  Downloading SQLAlchemy-1.4.36-cp38-cp38-win_amd64.whl (1.6 MB)\n",
      "Collecting greenlet!=0.4.17\n",
      "  Using cached greenlet-1.1.2-cp38-cp38-win_amd64.whl (101 kB)\n",
      "Building wheels for collected packages: ruwordnet\n",
      "  Building wheel for ruwordnet (setup.py): started\n",
      "  Building wheel for ruwordnet (setup.py): finished with status 'done'\n",
      "  Created wheel for ruwordnet: filename=ruwordnet-0.0.3-py3-none-any.whl size=11621 sha256=5992d308942bba726c0ba1c392dfcd9c3b255d8cad43a30ef148393d29eb8915\n",
      "  Stored in directory: c:\\users\\veron\\appdata\\local\\pip\\cache\\wheels\\b8\\5a\\f5\\3a572d60a17921493ff62f665f378e74da7ea644bcfce9813c\n",
      "Successfully built ruwordnet\n",
      "Installing collected packages: greenlet, sqlalchemy, ruwordnet\n",
      "Successfully installed greenlet-1.1.2 ruwordnet-0.0.3 sqlalchemy-1.4.36\n"
     ]
    }
   ],
   "source": [
    "!pip install ruwordnet\n",
    "#ruwordnet download"
   ]
  },
  {
   "cell_type": "code",
   "execution_count": null,
   "id": "a0f7968c",
   "metadata": {},
   "outputs": [],
   "source": []
  }
 ],
 "metadata": {
  "kernelspec": {
   "display_name": "Python 3 (ipykernel)",
   "language": "python",
   "name": "python3"
  },
  "language_info": {
   "codemirror_mode": {
    "name": "ipython",
    "version": 3
   },
   "file_extension": ".py",
   "mimetype": "text/x-python",
   "name": "python",
   "nbconvert_exporter": "python",
   "pygments_lexer": "ipython3",
   "version": "3.8.12"
  }
 },
 "nbformat": 4,
 "nbformat_minor": 5
}
