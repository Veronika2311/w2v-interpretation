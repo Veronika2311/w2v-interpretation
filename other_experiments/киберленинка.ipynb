{
 "cells": [
  {
   "cell_type": "code",
   "execution_count": 7,
   "id": "bf14759a",
   "metadata": {},
   "outputs": [],
   "source": [
    "import re\n",
    "import os\n",
    "from tqdm import tqdm"
   ]
  },
  {
   "cell_type": "code",
   "execution_count": 8,
   "id": "83ac6040",
   "metadata": {},
   "outputs": [
    {
     "name": "stderr",
     "output_type": "stream",
     "text": [
      "[nltk_data] Downloading package stopwords to\n",
      "[nltk_data]     C:\\Users\\veron\\AppData\\Roaming\\nltk_data...\n",
      "[nltk_data]   Package stopwords is already up-to-date!\n"
     ]
    }
   ],
   "source": [
    "#! -m spacy download ru_core_news_sm\n",
    "import ru_core_news_sm\n",
    "nlp = ru_core_news_sm.load()\n",
    "path = 'C:/Users/veron/notebooks/LSA/to_w2v'\n",
    "\n",
    "import nltk\n",
    "nltk.download('stopwords')\n",
    "from nltk.corpus import stopwords\n",
    "stopwords = stopwords.words(\"russian\")"
   ]
  },
  {
   "cell_type": "code",
   "execution_count": 9,
   "id": "49dad904",
   "metadata": {},
   "outputs": [],
   "source": [
    "def get_files(path):\n",
    "    #texts = []\n",
    "    for file in os.listdir(path=path):\n",
    "        if file.endswith('.txt'):\n",
    "            print(file)\n",
    "            with open(path + '/' + file, encoding='utf8') as f:\n",
    "                text = f.read()\n",
    "                text = re.sub('<\\/?[A_Za-z]>', '', text)\n",
    "            with open(path + '/clean_files/' + file, 'w', encoding='utf8') as f:\n",
    "                f.write(text)            \n",
    "                #splitted_text = text.split('      \\n')\n",
    "                #texts.extend(splitted_text)\n",
    "            print('end')\n",
    "    return None #texts"
   ]
  },
  {
   "cell_type": "code",
   "execution_count": 11,
   "id": "7c849c5f",
   "metadata": {},
   "outputs": [],
   "source": [
    "def preprocess(text, nlp=nlp):\n",
    "    doс = nlp(text)\n",
    "    postags_stop = ['ADP', 'AUX', 'CCONJ', 'DET', 'INTJ', 'PART', 'PUNCT', 'SCONJ']\n",
    "    lemms = []\n",
    "    for word in doс:\n",
    "        if word.pos_ not in postags_stop and str(word) not in '.,?!\\'\\\"()[]{}<>1234567890' and word.lemma_ not in stopwords:\n",
    "            lemms.append(word.lemma_.lower())\n",
    "    return lemms"
   ]
  },
  {
   "cell_type": "code",
   "execution_count": 12,
   "id": "8bd8fcf0",
   "metadata": {},
   "outputs": [
    {
     "name": "stdout",
     "output_type": "stream",
     "text": [
      "all_cyberleninka_archi.txt\n",
      "end\n",
      "all_cyberleninka_arts2.txt\n",
      "end\n",
      "all_cyberleninka_automatization.txt\n",
      "end\n",
      "all_cyberleninka_geologiya2.txt\n",
      "end\n",
      "all_cyberleninka_hist2.txt\n",
      "end\n",
      "all_cyberleninka_kulture2.txt\n",
      "end\n",
      "all_cyberleninka_lang2.txt\n",
      "end\n",
      "all_cyberleninka_liter2.txt\n",
      "end\n"
     ]
    }
   ],
   "source": [
    "#get_files(path)"
   ]
  },
  {
   "cell_type": "code",
   "execution_count": 10,
   "id": "9aac5ca2",
   "metadata": {},
   "outputs": [],
   "source": [
    "#with open('to_preproc.txt', 'w', encoding='utf8') as f:\n",
    "#    f.writelines(to_preproc)"
   ]
  },
  {
   "cell_type": "code",
   "execution_count": 1,
   "id": "bd119e57",
   "metadata": {},
   "outputs": [],
   "source": [
    "#with open('result_lemmas.txt', 'a', encoding='utf8') as f:\n",
    "#    pass"
   ]
  },
  {
   "cell_type": "code",
   "execution_count": null,
   "id": "cac88fdb",
   "metadata": {},
   "outputs": [],
   "source": []
  },
  {
   "cell_type": "code",
   "execution_count": null,
   "id": "d52c6a9b",
   "metadata": {},
   "outputs": [],
   "source": []
  },
  {
   "cell_type": "code",
   "execution_count": null,
   "id": "fdb4d8ae",
   "metadata": {},
   "outputs": [
    {
     "name": "stderr",
     "output_type": "stream",
     "text": [
      "100%|████████████████████████████████████████████| 1864300/1864300 [3:02:22<00:00, 170.37it/s]\n",
      "100%|████████████████████████████████████████████| 1540134/1540134 [3:17:50<00:00, 129.75it/s]\n",
      "100%|█████████████████████████████████████████████| 2734482/2734482 [8:12:57<00:00, 92.45it/s]\n",
      " 72%|██████████████████████████████▎           | 3761884/5204024 [5:52:56<2:06:47, 189.56it/s]"
     ]
    }
   ],
   "source": [
    "to_model = []\n",
    "i = 0\n",
    "path_to_clean = path + '/clean_files'\n",
    "path_to_preproc = path + '/preproc'\n",
    "for file in os.listdir(path=path_to_clean):\n",
    "    if file.endswith('.txt'):\n",
    "        with open(path_to_clean + '/' + file, 'r', encoding='utf8') as f:\n",
    "            for text in tqdm(f.readlines()):\n",
    "                if text.strip('  \\n\\r'):\n",
    "                    to_model.extend(preprocess(text))\n",
    "                    if i % 1000 == 0:\n",
    "                        with open(path_to_preproc + '/' + file[:-4] + '_' + str(i) + '.txt', 'w', encoding='utf8') as f:\n",
    "                            f.writelines(to_model)\n",
    "                            to_model = []\n",
    "                    i += 1\n",
    "        with open(path_to_preproc + '/' + file + '_' + str(i), 'w', encoding='utf8') as f:\n",
    "            f.writelines(to_model)"
   ]
  },
  {
   "cell_type": "code",
   "execution_count": 2,
   "id": "cb88cd7f",
   "metadata": {
    "collapsed": true
   },
   "outputs": [
    {
     "ename": "ValueError",
     "evalue": "I/O operation on closed file.",
     "output_type": "error",
     "traceback": [
      "\u001b[1;31m---------------------------------------------------------------------------\u001b[0m",
      "\u001b[1;31mValueError\u001b[0m                                Traceback (most recent call last)",
      "\u001b[1;32m~\\AppData\\Local\\Temp/ipykernel_25268/2352856193.py\u001b[0m in \u001b[0;36m<module>\u001b[1;34m\u001b[0m\n\u001b[1;32m----> 1\u001b[1;33m \u001b[0mto_preproc\u001b[0m \u001b[1;33m=\u001b[0m \u001b[1;33m[\u001b[0m\u001b[0mn\u001b[0m\u001b[1;33m.\u001b[0m\u001b[0mstrip\u001b[0m\u001b[1;33m(\u001b[0m\u001b[1;34m'\\n'\u001b[0m\u001b[1;33m)\u001b[0m \u001b[1;32mfor\u001b[0m \u001b[0mn\u001b[0m \u001b[1;32min\u001b[0m \u001b[0mf\u001b[0m\u001b[1;33m.\u001b[0m\u001b[0mreadlines\u001b[0m\u001b[1;33m(\u001b[0m\u001b[1;33m)\u001b[0m \u001b[1;32mif\u001b[0m \u001b[0mn\u001b[0m\u001b[1;33m]\u001b[0m\u001b[1;33m\u001b[0m\u001b[1;33m\u001b[0m\u001b[0m\n\u001b[0m",
      "\u001b[1;31mValueError\u001b[0m: I/O operation on closed file."
     ]
    }
   ],
   "source": [
    "to_preproc = [n.strip('\\n') for n in f.readlines() if n]"
   ]
  },
  {
   "cell_type": "code",
   "execution_count": 4,
   "id": "9d90606e",
   "metadata": {},
   "outputs": [
    {
     "name": "stdout",
     "output_type": "stream",
     "text": [
      "Collecting patool\n",
      "  Downloading patool-1.12-py2.py3-none-any.whl (77 kB)\n",
      "Installing collected packages: patool\n",
      "Successfully installed patool-1.12\n"
     ]
    }
   ],
   "source": [
    "!pip install patool"
   ]
  },
  {
   "cell_type": "code",
   "execution_count": 6,
   "id": "4d469e0e",
   "metadata": {},
   "outputs": [
    {
     "ename": "PatoolError",
     "evalue": "patool can not unpack\npatool error: error extracting C:\\Users\\veron\\notebooks\\LSA\\to_w2v\\all_cyberleninka_forrest2.7z: could not find an executable program to extract format 7z; candidates are (7z,7za,7zr),",
     "output_type": "error",
     "traceback": [
      "\u001b[1;31m---------------------------------------------------------------------------\u001b[0m",
      "\u001b[1;31mPatoolError\u001b[0m                               Traceback (most recent call last)",
      "\u001b[1;32m~\\AppData\\Local\\Temp/ipykernel_18412/2943369860.py\u001b[0m in \u001b[0;36m<module>\u001b[1;34m\u001b[0m\n\u001b[0;32m      1\u001b[0m \u001b[1;32mfrom\u001b[0m \u001b[0mpyunpack\u001b[0m \u001b[1;32mimport\u001b[0m \u001b[0mArchive\u001b[0m\u001b[1;33m\u001b[0m\u001b[1;33m\u001b[0m\u001b[0m\n\u001b[1;32m----> 2\u001b[1;33m \u001b[0mArchive\u001b[0m\u001b[1;33m(\u001b[0m\u001b[1;34m'C:\\\\Users\\\\veron\\\\notebooks\\\\LSA\\\\to_w2v/all_cyberleninka_forrest2.7z'\u001b[0m\u001b[1;33m)\u001b[0m\u001b[1;33m.\u001b[0m\u001b[0mextractall\u001b[0m\u001b[1;33m(\u001b[0m\u001b[1;34m\"to_w2v\"\u001b[0m\u001b[1;33m)\u001b[0m\u001b[1;33m\u001b[0m\u001b[1;33m\u001b[0m\u001b[0m\n\u001b[0m",
      "\u001b[1;32m~\\Anaconda3\\envs\\pt1\\lib\\site-packages\\pyunpack\\__init__.py\u001b[0m in \u001b[0;36mextractall\u001b[1;34m(self, directory, auto_create_dir, patool_path)\u001b[0m\n\u001b[0;32m     92\u001b[0m                 \u001b[0mself\u001b[0m\u001b[1;33m.\u001b[0m\u001b[0mextractall_zipfile\u001b[0m\u001b[1;33m(\u001b[0m\u001b[0mdirectory\u001b[0m\u001b[1;33m)\u001b[0m\u001b[1;33m\u001b[0m\u001b[1;33m\u001b[0m\u001b[0m\n\u001b[0;32m     93\u001b[0m             \u001b[1;32melse\u001b[0m\u001b[1;33m:\u001b[0m\u001b[1;33m\u001b[0m\u001b[1;33m\u001b[0m\u001b[0m\n\u001b[1;32m---> 94\u001b[1;33m                 \u001b[0mself\u001b[0m\u001b[1;33m.\u001b[0m\u001b[0mextractall_patool\u001b[0m\u001b[1;33m(\u001b[0m\u001b[0mdirectory\u001b[0m\u001b[1;33m,\u001b[0m \u001b[0mpatool_path\u001b[0m\u001b[1;33m)\u001b[0m\u001b[1;33m\u001b[0m\u001b[1;33m\u001b[0m\u001b[0m\n\u001b[0m\u001b[0;32m     95\u001b[0m \u001b[1;33m\u001b[0m\u001b[0m\n\u001b[0;32m     96\u001b[0m         \u001b[1;32mif\u001b[0m \u001b[0mself\u001b[0m\u001b[1;33m.\u001b[0m\u001b[0mbackend\u001b[0m \u001b[1;33m==\u001b[0m \u001b[1;34m\"zipfile\"\u001b[0m\u001b[1;33m:\u001b[0m\u001b[1;33m\u001b[0m\u001b[1;33m\u001b[0m\u001b[0m\n",
      "\u001b[1;32m~\\Anaconda3\\envs\\pt1\\lib\\site-packages\\pyunpack\\__init__.py\u001b[0m in \u001b[0;36mextractall_patool\u001b[1;34m(self, directory, patool_path)\u001b[0m\n\u001b[0;32m     63\u001b[0m             \u001b[1;32mraise\u001b[0m \u001b[0mPatoolError\u001b[0m\u001b[1;33m(\u001b[0m\u001b[1;34m\"patool timeout\\n\"\u001b[0m \u001b[1;33m+\u001b[0m \u001b[0mstr\u001b[0m\u001b[1;33m(\u001b[0m\u001b[0mp\u001b[0m\u001b[1;33m.\u001b[0m\u001b[0mstdout\u001b[0m\u001b[1;33m)\u001b[0m \u001b[1;33m+\u001b[0m \u001b[1;34m\"\\n\"\u001b[0m \u001b[1;33m+\u001b[0m \u001b[0mstr\u001b[0m\u001b[1;33m(\u001b[0m\u001b[0mp\u001b[0m\u001b[1;33m.\u001b[0m\u001b[0mstderr\u001b[0m\u001b[1;33m)\u001b[0m\u001b[1;33m)\u001b[0m\u001b[1;33m\u001b[0m\u001b[1;33m\u001b[0m\u001b[0m\n\u001b[0;32m     64\u001b[0m         \u001b[1;32mif\u001b[0m \u001b[0mp\u001b[0m\u001b[1;33m.\u001b[0m\u001b[0mreturn_code\u001b[0m\u001b[1;33m:\u001b[0m\u001b[1;33m\u001b[0m\u001b[1;33m\u001b[0m\u001b[0m\n\u001b[1;32m---> 65\u001b[1;33m             \u001b[1;32mraise\u001b[0m \u001b[0mPatoolError\u001b[0m\u001b[1;33m(\u001b[0m\u001b[1;34m\"patool can not unpack\\n\"\u001b[0m \u001b[1;33m+\u001b[0m \u001b[0mstr\u001b[0m\u001b[1;33m(\u001b[0m\u001b[0mp\u001b[0m\u001b[1;33m.\u001b[0m\u001b[0mstderr\u001b[0m\u001b[1;33m)\u001b[0m\u001b[1;33m)\u001b[0m\u001b[1;33m\u001b[0m\u001b[1;33m\u001b[0m\u001b[0m\n\u001b[0m\u001b[0;32m     66\u001b[0m \u001b[1;33m\u001b[0m\u001b[0m\n\u001b[0;32m     67\u001b[0m     \u001b[1;32mdef\u001b[0m \u001b[0mextractall_zipfile\u001b[0m\u001b[1;33m(\u001b[0m\u001b[0mself\u001b[0m\u001b[1;33m,\u001b[0m \u001b[0mdirectory\u001b[0m\u001b[1;33m)\u001b[0m\u001b[1;33m:\u001b[0m\u001b[1;33m\u001b[0m\u001b[1;33m\u001b[0m\u001b[0m\n",
      "\u001b[1;31mPatoolError\u001b[0m: patool can not unpack\npatool error: error extracting C:\\Users\\veron\\notebooks\\LSA\\to_w2v\\all_cyberleninka_forrest2.7z: could not find an executable program to extract format 7z; candidates are (7z,7za,7zr),"
     ]
    }
   ],
   "source": [
    "from pyunpack import Archive\n",
    "Archive('C:\\\\Users\\\\veron\\\\notebooks\\\\LSA\\\\to_w2v/all_cyberleninka_forrest2.7z').extractall(\"to_w2v\")"
   ]
  },
  {
   "cell_type": "code",
   "execution_count": null,
   "id": "4d891260",
   "metadata": {},
   "outputs": [],
   "source": [
    "#from gensim.models import Word2Vec\n",
    "#w2v_model = Word2Vec(min_count=10, window=2, size=300, negative=10, alpha=0.03, min_alpha=0.0007, sample=6e-5, sg=1)"
   ]
  },
  {
   "cell_type": "code",
   "execution_count": null,
   "id": "401ccde8",
   "metadata": {},
   "outputs": [],
   "source": [
    "#w2v_model.train(data, total_examples=w2v_model.corpus_count, epochs=30, report_delay=1)"
   ]
  },
  {
   "cell_type": "code",
   "execution_count": null,
   "id": "1e2c55cc",
   "metadata": {},
   "outputs": [],
   "source": [
    "#w2v_model.wv.most_similar(positive=[“любить”])"
   ]
  }
 ],
 "metadata": {
  "kernelspec": {
   "display_name": "Python 3 (ipykernel)",
   "language": "python",
   "name": "python3"
  },
  "language_info": {
   "codemirror_mode": {
    "name": "ipython",
    "version": 3
   },
   "file_extension": ".py",
   "mimetype": "text/x-python",
   "name": "python",
   "nbconvert_exporter": "python",
   "pygments_lexer": "ipython3",
   "version": "3.8.12"
  }
 },
 "nbformat": 4,
 "nbformat_minor": 5
}
